{
 "cells": [
  {
   "cell_type": "markdown",
   "metadata": {
    "application/vnd.databricks.v1+cell": {
     "cellMetadata": {
      "byteLimit": 2048000,
      "rowLimit": 10000
     },
     "inputWidgets": {},
     "nuid": "7f76e707-d1e1-4bc2-8ffb-e4b7574d62bc",
     "showTitle": false,
     "tableResultSettingsMap": {},
     "title": ""
    }
   },
   "source": [
    "# Flight data using pyspark\n",
    ">_Abdelmajid EL HOU\n",
    "\n",
    "Data source : [Ici](https://raw.githubusercontent.com/AbdelmajidLh/datasets/main/flight_data.csv)"
   ]
  },
  {
   "cell_type": "markdown",
   "metadata": {
    "application/vnd.databricks.v1+cell": {
     "cellMetadata": {
      "byteLimit": 2048000,
      "rowLimit": 10000
     },
     "inputWidgets": {},
     "nuid": "13a6f31d-143b-465c-8e97-66e6151c55be",
     "showTitle": false,
     "tableResultSettingsMap": {},
     "title": ""
    }
   },
   "source": [
    "> ## 1. Initialisation de la SparkSession et Chargement des Données"
   ]
  },
  {
   "cell_type": "markdown",
   "metadata": {
    "application/vnd.databricks.v1+cell": {
     "cellMetadata": {
      "byteLimit": 2048000,
      "rowLimit": 10000
     },
     "inputWidgets": {},
     "nuid": "6e1467c0-c70d-4d15-a08e-40d6bdc77626",
     "showTitle": false,
     "tableResultSettingsMap": {},
     "title": ""
    }
   },
   "source": [
    "```Python\n",
    "# Initialisation de la SparkSession (nécessaire si en dehors de Databricks)\n",
    "from pyspark.sql import sparkSession\n",
    "\n",
    "# initialiser sparkSession\n",
    "spark = SparkSession.builder() \\\n",
    "  .appName(\"Flight Data Analysys\") \\\n",
    "  .getOrCreate()\n",
    "```\n"
   ]
  },
  {
   "cell_type": "code",
   "execution_count": 0,
   "metadata": {
    "application/vnd.databricks.v1+cell": {
     "cellMetadata": {
      "byteLimit": 2048000,
      "rowLimit": 10000
     },
     "inputWidgets": {},
     "nuid": "b6ad7850-a397-4103-be9a-08c70e6b2447",
     "showTitle": false,
     "tableResultSettingsMap": {},
     "title": ""
    }
   },
   "outputs": [],
   "source": [
    "# Charger le fichier csv\n",
    "file_path = \"/FileStore/tables/flight_data.csv\"\n",
    "flight_df = spark.read.format(\"csv\") \\\n",
    "  .option(\"header\", \"true\") \\\n",
    "  .option(\"separator\", \",\") \\\n",
    "  .option(\"inferSchema\", \"true\") \\\n",
    "  .option(\"treatEmptyValuesAsNulls\",\"true\") \\\n",
    "  .option(\"nullValue\", None) \\\n",
    "  .option(\"emptyValue\", None) \\\n",
    "  .load(file_path)"
   ]
  },
  {
   "cell_type": "code",
   "execution_count": 0,
   "metadata": {
    "application/vnd.databricks.v1+cell": {
     "cellMetadata": {
      "byteLimit": 2048000,
      "rowLimit": 10000
     },
     "inputWidgets": {},
     "nuid": "f44e41bb-e5a9-4bd9-a9de-500c58bea8f0",
     "showTitle": false,
     "tableResultSettingsMap": {},
     "title": ""
    }
   },
   "outputs": [
    {
     "output_type": "stream",
     "name": "stdout",
     "output_type": "stream",
     "text": [
      "+----+-----+----------+---------+-------+----------+-------+----------+-------------+---------+-------+-----------------+--------------+-------+--------+--------+------+----+--------+------+-------+---------+----------------+--------+------------+------------+--------+-------------+-----------------+\n|Year|Month|DayofMonth|DayOfWeek|DepTime|CRSDepTime|ArrTime|CRSArrTime|UniqueCarrier|FlightNum|TailNum|ActualElapsedTime|CRSElapsedTime|AirTime|ArrDelay|DepDelay|Origin|Dest|Distance|TaxiIn|TaxiOut|Cancelled|CancellationCode|Diverted|CarrierDelay|WeatherDelay|NASDelay|SecurityDelay|LateAircraftDelay|\n+----+-----+----------+---------+-------+----------+-------+----------+-------------+---------+-------+-----------------+--------------+-------+--------+--------+------+----+--------+------+-------+---------+----------------+--------+------------+------------+--------+-------------+-----------------+\n|2008|    1|         3|        4|   2003|      1955|   2211|      2225|           WN|      335| N712SW|              128|           150|    116|     -14|       8|   IAD| TPA|     810|     4|      8|        0|            null|       0|          NA|          NA|      NA|           NA|               NA|\n|2008|    1|         3|        4|    754|       735|   1002|      1000|           WN|     3231| N772SW|              128|           145|    113|       2|      19|   IAD| TPA|     810|     5|     10|        0|            null|       0|          NA|          NA|      NA|           NA|               NA|\n|2008|    1|         3|        4|    628|       620|    804|       750|           WN|      448| N428WN|               96|            90|     76|      14|       8|   IND| BWI|     515|     3|     17|        0|            null|       0|          NA|          NA|      NA|           NA|               NA|\n|2008|    1|         3|        4|    926|       930|   1054|      1100|           WN|     1746| N612SW|               88|            90|     78|      -6|      -4|   IND| BWI|     515|     3|      7|        0|            null|       0|          NA|          NA|      NA|           NA|               NA|\n|2008|    1|         3|        4|   1829|      1755|   1959|      1925|           WN|     3920| N464WN|               90|            90|     77|      34|      34|   IND| BWI|     515|     3|     10|        0|            null|       0|           2|           0|       0|            0|               32|\n+----+-----+----------+---------+-------+----------+-------+----------+-------------+---------+-------+-----------------+--------------+-------+--------+--------+------+----+--------+------+-------+---------+----------------+--------+------------+------------+--------+-------------+-----------------+\nonly showing top 5 rows\n\n"
     ]
    }
   ],
   "source": [
    "# afficher un apercu \n",
    "flight_df.show(5)"
   ]
  },
  {
   "cell_type": "code",
   "execution_count": 0,
   "metadata": {
    "application/vnd.databricks.v1+cell": {
     "cellMetadata": {
      "byteLimit": 2048000,
      "rowLimit": 10000
     },
     "inputWidgets": {},
     "nuid": "449f2963-dfdf-4c15-836e-3266566d5c36",
     "showTitle": false,
     "tableResultSettingsMap": {},
     "title": ""
    }
   },
   "outputs": [
    {
     "output_type": "stream",
     "name": "stdout",
     "output_type": "stream",
     "text": [
      "root\n |-- Year: integer (nullable = true)\n |-- Month: integer (nullable = true)\n |-- DayofMonth: integer (nullable = true)\n |-- DayOfWeek: integer (nullable = true)\n |-- DepTime: string (nullable = true)\n |-- CRSDepTime: integer (nullable = true)\n |-- ArrTime: string (nullable = true)\n |-- CRSArrTime: integer (nullable = true)\n |-- UniqueCarrier: string (nullable = true)\n |-- FlightNum: integer (nullable = true)\n |-- TailNum: string (nullable = true)\n |-- ActualElapsedTime: string (nullable = true)\n |-- CRSElapsedTime: integer (nullable = true)\n |-- AirTime: string (nullable = true)\n |-- ArrDelay: string (nullable = true)\n |-- DepDelay: string (nullable = true)\n |-- Origin: string (nullable = true)\n |-- Dest: string (nullable = true)\n |-- Distance: integer (nullable = true)\n |-- TaxiIn: string (nullable = true)\n |-- TaxiOut: string (nullable = true)\n |-- Cancelled: integer (nullable = true)\n |-- CancellationCode: string (nullable = true)\n |-- Diverted: integer (nullable = true)\n |-- CarrierDelay: string (nullable = true)\n |-- WeatherDelay: string (nullable = true)\n |-- NASDelay: string (nullable = true)\n |-- SecurityDelay: string (nullable = true)\n |-- LateAircraftDelay: string (nullable = true)\n\n"
     ]
    }
   ],
   "source": [
    "# afficher le schema\n",
    "flight_df.printSchema()"
   ]
  },
  {
   "cell_type": "markdown",
   "metadata": {
    "application/vnd.databricks.v1+cell": {
     "cellMetadata": {
      "byteLimit": 2048000,
      "rowLimit": 10000
     },
     "inputWidgets": {},
     "nuid": "8c384cef-159e-4b21-9dfa-47c1c965ce74",
     "showTitle": false,
     "tableResultSettingsMap": {},
     "title": ""
    }
   },
   "source": [
    "## Étape 2 : Analyse des Données"
   ]
  },
  {
   "cell_type": "code",
   "execution_count": 0,
   "metadata": {
    "application/vnd.databricks.v1+cell": {
     "cellMetadata": {
      "byteLimit": 2048000,
      "rowLimit": 10000
     },
     "inputWidgets": {},
     "nuid": "67b3494e-3901-4ff4-94f9-d24c5fffb5e8",
     "showTitle": false,
     "tableResultSettingsMap": {},
     "title": ""
    }
   },
   "outputs": [
    {
     "output_type": "stream",
     "name": "stdout",
     "output_type": "stream",
     "text": [
      "Nombre de lignes : 100000\n"
     ]
    }
   ],
   "source": [
    "# nombre de lignes \n",
    "print(f\"Nombre de lignes : {flight_df.count()}\")\n"
   ]
  },
  {
   "cell_type": "code",
   "execution_count": 0,
   "metadata": {
    "application/vnd.databricks.v1+cell": {
     "cellMetadata": {
      "byteLimit": 2048000,
      "rowLimit": 10000
     },
     "inputWidgets": {},
     "nuid": "1d5893a8-af1b-4279-85be-52efb755d98a",
     "showTitle": false,
     "tableResultSettingsMap": {},
     "title": ""
    }
   },
   "outputs": [
    {
     "output_type": "stream",
     "name": "stdout",
     "output_type": "stream",
     "text": [
      "Colonnes : ['Year', 'Month', 'DayofMonth', 'DayOfWeek', 'DepTime', 'CRSDepTime', 'ArrTime', 'CRSArrTime', 'UniqueCarrier', 'FlightNum', 'TailNum', 'ActualElapsedTime', 'CRSElapsedTime', 'AirTime', 'ArrDelay', 'DepDelay', 'Origin', 'Dest', 'Distance', 'TaxiIn', 'TaxiOut', 'Cancelled', 'CancellationCode', 'Diverted', 'CarrierDelay', 'WeatherDelay', 'NASDelay', 'SecurityDelay', 'LateAircraftDelay']\n"
     ]
    }
   ],
   "source": [
    "# colonnes\n",
    "print(f\"Colonnes : {flight_df.columns}\")"
   ]
  },
  {
   "cell_type": "code",
   "execution_count": 0,
   "metadata": {
    "application/vnd.databricks.v1+cell": {
     "cellMetadata": {
      "byteLimit": 2048000,
      "rowLimit": 10000
     },
     "inputWidgets": {},
     "nuid": "59161502-00ec-4111-8a63-3ceb5428bdc6",
     "showTitle": false,
     "tableResultSettingsMap": {},
     "title": ""
    }
   },
   "outputs": [
    {
     "output_type": "stream",
     "name": "stdout",
     "output_type": "stream",
     "text": [
      "+-------+------+------+-----------------+------------------+-----------------+\n|summary|  Year| Month|       DayofMonth|         DayOfWeek|          DepTime|\n+-------+------+------+-----------------+------------------+-----------------+\n|  count|100000|100000|           100000|            100000|           100000|\n|   mean|2008.0|   1.0|         17.08786|           3.89004|1355.200722248073|\n| stddev|   0.0|   0.0|8.356363976550425|1.9529994727263515|464.0896318178067|\n|    min|  2008|     1|                1|                 1|                1|\n|    max|  2008|     1|               31|                 7|               NA|\n+-------+------+------+-----------------+------------------+-----------------+\n\n"
     ]
    }
   ],
   "source": [
    "# resume statistique\n",
    "flight_df.select(flight_df.columns[:5]).describe().show()"
   ]
  },
  {
   "cell_type": "code",
   "execution_count": 0,
   "metadata": {
    "application/vnd.databricks.v1+cell": {
     "cellMetadata": {
      "byteLimit": 2048000,
      "rowLimit": 10000
     },
     "inputWidgets": {},
     "nuid": "93660f7f-c976-4ecd-86a2-9541f1f349cd",
     "showTitle": false,
     "tableResultSettingsMap": {},
     "title": ""
    }
   },
   "outputs": [
    {
     "output_type": "stream",
     "name": "stdout",
     "output_type": "stream",
     "text": [
      "+----+-----+----------+---------+\n|Year|Month|DayofMonth|DayOfWeek|\n+----+-----+----------+---------+\n|2008|    1|         3|        4|\n|2008|    1|         3|        4|\n|2008|    1|         3|        4|\n|2008|    1|         3|        4|\n|2008|    1|         3|        4|\n|2008|    1|         3|        4|\n|2008|    1|         3|        4|\n|2008|    1|         3|        4|\n|2008|    1|         3|        4|\n|2008|    1|         3|        4|\n+----+-----+----------+---------+\nonly showing top 10 rows\n\n"
     ]
    }
   ],
   "source": [
    "# afficher certains colonnes uniquement\n",
    "flight_df.select(\"Year\", \"Month\", \"DayofMonth\", \"DayOfWeek\").show(10)"
   ]
  },
  {
   "cell_type": "code",
   "execution_count": 0,
   "metadata": {
    "application/vnd.databricks.v1+cell": {
     "cellMetadata": {
      "byteLimit": 2048000,
      "rowLimit": 10000
     },
     "inputWidgets": {},
     "nuid": "45ca94ea-3f2b-4f61-a8b9-a5f62e5f0665",
     "showTitle": false,
     "tableResultSettingsMap": {},
     "title": ""
    }
   },
   "outputs": [
    {
     "output_type": "stream",
     "name": "stdout",
     "output_type": "stream",
     "text": [
      "+----+-----+----------+---------+\n|Year|Month|DayofMonth|DayOfWeek|\n+----+-----+----------+---------+\n|2008|    1|         3|        4|\n|2008|    1|         3|        4|\n|2008|    1|         3|        4|\n|2008|    1|         3|        4|\n|2008|    1|         3|        4|\n|2008|    1|         3|        4|\n|2008|    1|         3|        4|\n|2008|    1|         3|        4|\n|2008|    1|         3|        4|\n|2008|    1|         3|        4|\n+----+-----+----------+---------+\nonly showing top 10 rows\n\n"
     ]
    }
   ],
   "source": [
    "# selectionner quelques colonnes\n",
    "flight_df.select(flight_df.columns[:4]).show(10)"
   ]
  },
  {
   "cell_type": "code",
   "execution_count": 0,
   "metadata": {
    "application/vnd.databricks.v1+cell": {
     "cellMetadata": {
      "byteLimit": 2048000,
      "rowLimit": 10000
     },
     "inputWidgets": {},
     "nuid": "035e1326-fce2-4a17-bbd4-501d3af67600",
     "showTitle": false,
     "tableResultSettingsMap": {},
     "title": ""
    }
   },
   "outputs": [
    {
     "output_type": "stream",
     "name": "stdout",
     "output_type": "stream",
     "text": [
      "+----+-----+----------+---------+-------+----------+-------+----------+-------------+---------+-------+-----------------+--------------+-------+--------+--------+------+----+--------+------+-------+---------+----------------+--------+------------+------------+--------+-------------+-----------------+\n|Year|Month|DayofMonth|DayOfWeek|DepTime|CRSDepTime|ArrTime|CRSArrTime|UniqueCarrier|FlightNum|TailNum|ActualElapsedTime|CRSElapsedTime|AirTime|ArrDelay|DepDelay|Origin|Dest|Distance|TaxiIn|TaxiOut|Cancelled|CancellationCode|Diverted|CarrierDelay|WeatherDelay|NASDelay|SecurityDelay|LateAircraftDelay|\n+----+-----+----------+---------+-------+----------+-------+----------+-------------+---------+-------+-----------------+--------------+-------+--------+--------+------+----+--------+------+-------+---------+----------------+--------+------------+------------+--------+-------------+-----------------+\n+----+-----+----------+---------+-------+----------+-------+----------+-------------+---------+-------+-----------------+--------------+-------+--------+--------+------+----+--------+------+-------+---------+----------------+--------+------------+------------+--------+-------------+-----------------+\n\n"
     ]
    }
   ],
   "source": [
    "# afficher les lignes où une colonne specifique est nulle\n",
    "from pyspark.sql.functions import *\n",
    "flight_df.filter(col(\"CarrierDelay\").isNull()).show(5) # isNull isnan"
   ]
  },
  {
   "cell_type": "code",
   "execution_count": 0,
   "metadata": {
    "application/vnd.databricks.v1+cell": {
     "cellMetadata": {
      "byteLimit": 2048000,
      "rowLimit": 10000
     },
     "inputWidgets": {},
     "nuid": "535e6124-2994-4c0e-936b-cdf10ec7ae69",
     "showTitle": false,
     "tableResultSettingsMap": {},
     "title": ""
    }
   },
   "outputs": [
    {
     "output_type": "stream",
     "name": "stdout",
     "output_type": "stream",
     "text": [
      "+----+-----+----------+---------+------------+\n|Year|Month|DayofMonth|DayOfWeek|CarrierDelay|\n+----+-----+----------+---------+------------+\n|2008|    1|         3|        4|          NA|\n|2008|    1|         3|        4|          NA|\n|2008|    1|         3|        4|          NA|\n|2008|    1|         3|        4|          NA|\n|2008|    1|         3|        4|          NA|\n|2008|    1|         3|        4|          NA|\n|2008|    1|         3|        4|          NA|\n|2008|    1|         3|        4|          NA|\n|2008|    1|         3|        4|          NA|\n|2008|    1|         3|        4|          NA|\n+----+-----+----------+---------+------------+\nonly showing top 10 rows\n\n"
     ]
    }
   ],
   "source": [
    "# afficher les lignes où une colonne contient \"NA\" en tant que texte\n",
    "# resultats quelques colonnes\n",
    "flight_df.filter(col(\"CarrierDelay\") == \"NA\").select(\"Year\", \"Month\", \"DayofMonth\", \"DayOfWeek\", \"CarrierDelay\").show(10)"
   ]
  },
  {
   "cell_type": "code",
   "execution_count": 0,
   "metadata": {
    "application/vnd.databricks.v1+cell": {
     "cellMetadata": {
      "byteLimit": 2048000,
      "rowLimit": 10000
     },
     "inputWidgets": {},
     "nuid": "889fe32e-a98a-4c22-a627-38edfa13be6a",
     "showTitle": false,
     "tableResultSettingsMap": {},
     "title": ""
    }
   },
   "outputs": [],
   "source": [
    "# remplacer les NA dans la colonne CarrierDelay par des NULL\n",
    "newDf = flight_df.withColumn('CarrierDelay', regexp_replace('CarrierDelay', 'NA', None))\n",
    "# remplacer tous les na du df\n",
    "# flight_df = flight_df.na.replace('NA', None)"
   ]
  },
  {
   "cell_type": "code",
   "execution_count": 0,
   "metadata": {
    "application/vnd.databricks.v1+cell": {
     "cellMetadata": {
      "byteLimit": 2048000,
      "rowLimit": 10000
     },
     "inputWidgets": {},
     "nuid": "0d1d407d-fce1-4030-9aa7-ea4c9a8eeb52",
     "showTitle": false,
     "tableResultSettingsMap": {},
     "title": ""
    }
   },
   "outputs": [
    {
     "output_type": "stream",
     "name": "stdout",
     "output_type": "stream",
     "text": [
      "+----+-----+----------+---------+------------+\n|Year|Month|DayofMonth|DayOfWeek|CarrierDelay|\n+----+-----+----------+---------+------------+\n+----+-----+----------+---------+------------+\n\n"
     ]
    }
   ],
   "source": [
    "# check\n",
    "newDf.filter(col(\"CarrierDelay\") == \"NA\").select(\"Year\", \"Month\", \"DayofMonth\", \"DayOfWeek\", \"CarrierDelay\").show(10)"
   ]
  },
  {
   "cell_type": "code",
   "execution_count": 0,
   "metadata": {
    "application/vnd.databricks.v1+cell": {
     "cellMetadata": {
      "byteLimit": 2048000,
      "rowLimit": 10000
     },
     "inputWidgets": {},
     "nuid": "91c42bbb-fd1e-4fd9-bb34-5da17953fa0b",
     "showTitle": false,
     "tableResultSettingsMap": {},
     "title": ""
    }
   },
   "outputs": [
    {
     "output_type": "stream",
     "name": "stdout",
     "output_type": "stream",
     "text": [
      "+----+-----+----------+---------+\n|Year|Month|DayofMonth|DayOfWeek|\n+----+-----+----------+---------+\n|2008|    1|        20|        7|\n|2008|    1|        20|        7|\n|2008|    1|        20|        7|\n|2008|    1|        20|        7|\n|2008|    1|        20|        7|\n|2008|    1|        20|        7|\n+----+-----+----------+---------+\nonly showing top 6 rows\n\n"
     ]
    }
   ],
   "source": [
    "# Afficher les vols entre 20 et 31 janvier 2008\n",
    "newDf.filter((newDf.Year == '2008') & (newDf.Month == '1') & (newDf.DayofMonth >= 20)).select(\"Year\", \"Month\", \"DayofMonth\", \"DayOfWeek\").show(6)"
   ]
  },
  {
   "cell_type": "code",
   "execution_count": 0,
   "metadata": {
    "application/vnd.databricks.v1+cell": {
     "cellMetadata": {
      "byteLimit": 2048000,
      "rowLimit": 10000
     },
     "inputWidgets": {},
     "nuid": "8962b6af-1da0-4fa1-b528-338ca804cc50",
     "showTitle": false,
     "tableResultSettingsMap": {},
     "title": ""
    }
   },
   "outputs": [
    {
     "output_type": "stream",
     "name": "stdout",
     "output_type": "stream",
     "text": [
      "+----+-----+----------+---------+-------+----------+-------+----------+-------------+---------+-------+-----------------+--------------+-------+--------+--------+------+----+--------+------+-------+---------+----------------+--------+------------+------------+--------+-------------+-----------------+\n|Year|Month|DayofMonth|DayOfWeek|DepTime|CRSDepTime|ArrTime|CRSArrTime|UniqueCarrier|FlightNum|TailNum|ActualElapsedTime|CRSElapsedTime|AirTime|ArrDelay|DepDelay|Origin|Dest|Distance|TaxiIn|TaxiOut|Cancelled|CancellationCode|Diverted|CarrierDelay|WeatherDelay|NASDelay|SecurityDelay|LateAircraftDelay|\n+----+-----+----------+---------+-------+----------+-------+----------+-------------+---------+-------+-----------------+--------------+-------+--------+--------+------+----+--------+------+-------+---------+----------------+--------+------------+------------+--------+-------------+-----------------+\n|2008|    1|         3|        4|   2003|      1955|   2211|      2225|           WN|      335| N712SW|              128|           150|    116|     -14|       8|   IAD| TPA|     810|     4|      8|        0|            null|       0|        null|          NA|      NA|           NA|               NA|\n|2008|    1|         3|        4|    754|       735|   1002|      1000|           WN|     3231| N772SW|              128|           145|    113|       2|      19|   IAD| TPA|     810|     5|     10|        0|            null|       0|        null|          NA|      NA|           NA|               NA|\n|2008|    1|         3|        4|    628|       620|    804|       750|           WN|      448| N428WN|               96|            90|     76|      14|       8|   IND| BWI|     515|     3|     17|        0|            null|       0|        null|          NA|      NA|           NA|               NA|\n|2008|    1|         3|        4|    926|       930|   1054|      1100|           WN|     1746| N612SW|               88|            90|     78|      -6|      -4|   IND| BWI|     515|     3|      7|        0|            null|       0|        null|          NA|      NA|           NA|               NA|\n|2008|    1|         3|        4|   1829|      1755|   1959|      1925|           WN|     3920| N464WN|               90|            90|     77|      34|      34|   IND| BWI|     515|     3|     10|        0|            null|       0|        null|           0|       0|            0|               32|\n+----+-----+----------+---------+-------+----------+-------+----------+-------------+---------+-------+-----------------+--------------+-------+--------+--------+------+----+--------+------+-------+---------+----------------+--------+------------+------------+--------+-------------+-----------------+\nonly showing top 5 rows\n\n"
     ]
    }
   ],
   "source": [
    "# filtrer les vols valides (non annulés et non détournés) : \"Cancelled\" = 0 et Diverted = 0\n",
    "valid_flight = newDf.filter((col(\"Cancelled\") == 0)  & (col(\"Diverted\") == 0  ))\n",
    "valid_flight.show(5)"
   ]
  },
  {
   "cell_type": "code",
   "execution_count": 0,
   "metadata": {
    "application/vnd.databricks.v1+cell": {
     "cellMetadata": {
      "byteLimit": 2048000,
      "rowLimit": 10000
     },
     "inputWidgets": {},
     "nuid": "42d83526-9b2e-49e2-a0da-69e87343aa81",
     "showTitle": false,
     "tableResultSettingsMap": {},
     "title": ""
    }
   },
   "outputs": [
    {
     "output_type": "stream",
     "name": "stdout",
     "output_type": "stream",
     "text": [
      "+--------+\n|Diverted|\n+--------+\n|       0|\n+--------+\n\n"
     ]
    }
   ],
   "source": [
    "# check\n",
    "valid_flight.select(col(\"Diverted\")).distinct().show()"
   ]
  },
  {
   "cell_type": "code",
   "execution_count": 0,
   "metadata": {
    "application/vnd.databricks.v1+cell": {
     "cellMetadata": {
      "byteLimit": 2048000,
      "rowLimit": 10000
     },
     "inputWidgets": {},
     "nuid": "d7e0420e-8788-4d7c-92d4-ddea296438e5",
     "showTitle": false,
     "tableResultSettingsMap": {},
     "title": ""
    }
   },
   "outputs": [],
   "source": [
    "# ajouter une colonne TotalDelay\n",
    "flight_df = newDf.withColumn(\"TotalDelay\", col(\"ArrDelay\") + col(\"DepDelay\"))\n"
   ]
  },
  {
   "cell_type": "code",
   "execution_count": 0,
   "metadata": {
    "application/vnd.databricks.v1+cell": {
     "cellMetadata": {
      "byteLimit": 2048000,
      "rowLimit": 10000
     },
     "inputWidgets": {},
     "nuid": "50764d54-4775-41c1-a46c-b4b1c47690d2",
     "showTitle": false,
     "tableResultSettingsMap": {},
     "title": ""
    }
   },
   "outputs": [],
   "source": [
    "# ajouter une colonne pour identifier les vols long-distance (> 1000)\n",
    "flight_df = flight_df.withColumn(\"LongHaul\", when(col(\"Distance\") > 1000, True).otherwise(False))"
   ]
  },
  {
   "cell_type": "code",
   "execution_count": 0,
   "metadata": {
    "application/vnd.databricks.v1+cell": {
     "cellMetadata": {
      "byteLimit": 2048000,
      "rowLimit": 10000
     },
     "inputWidgets": {},
     "nuid": "a77f8b31-c18f-41ac-ac44-484ada171457",
     "showTitle": false,
     "tableResultSettingsMap": {},
     "title": ""
    }
   },
   "outputs": [
    {
     "output_type": "stream",
     "name": "stdout",
     "output_type": "stream",
     "text": [
      "+-------------+----------+\n|UniqueCarrier|TotalDelay|\n+-------------+----------+\n|           WN|    1008.0|\n|           WN|    1002.0|\n|           XE|     896.0|\n|           XE|     887.0|\n|           WN|     881.0|\n|           WN|     846.0|\n|           XE|     834.0|\n|           XE|     832.0|\n|           WN|     793.0|\n|           WN|     792.0|\n+-------------+----------+\nonly showing top 10 rows\n\n"
     ]
    }
   ],
   "source": [
    "# trier les vols valides par retard total decroissant\n",
    "flight_df.orderBy(col(\"TotalDelay\").desc()).select(\"UniqueCarrier\", \"TotalDelay\").show(10)"
   ]
  },
  {
   "cell_type": "code",
   "execution_count": 0,
   "metadata": {
    "application/vnd.databricks.v1+cell": {
     "cellMetadata": {
      "byteLimit": 2048000,
      "rowLimit": 10000
     },
     "inputWidgets": {},
     "nuid": "6ea319a7-bb5a-48e7-8869-99b87eea2b2b",
     "showTitle": false,
     "tableResultSettingsMap": {},
     "title": ""
    }
   },
   "outputs": [
    {
     "output_type": "stream",
     "name": "stdout",
     "output_type": "stream",
     "text": [
      "+-------------+----------+\n|UniqueCarrier|TotalDelay|\n+-------------+----------+\n|           WN|    1008.0|\n|           WN|    1002.0|\n|           XE|     896.0|\n|           XE|     887.0|\n|           WN|     881.0|\n|           WN|     846.0|\n|           XE|     834.0|\n|           XE|     832.0|\n|           WN|     793.0|\n|           WN|     792.0|\n+-------------+----------+\nonly showing top 10 rows\n\n"
     ]
    }
   ],
   "source": [
    "# autre methode\n",
    "flight_df.orderBy(col(\"TotalDelay\"), ascending=False).select(\"UniqueCarrier\", \"TotalDelay\").show(10)"
   ]
  },
  {
   "cell_type": "code",
   "execution_count": 0,
   "metadata": {
    "application/vnd.databricks.v1+cell": {
     "cellMetadata": {
      "byteLimit": 2048000,
      "rowLimit": 10000
     },
     "inputWidgets": {},
     "nuid": "5f31af4e-c173-4dc3-aff3-3ed03b1b8d4d",
     "showTitle": false,
     "tableResultSettingsMap": {},
     "title": ""
    }
   },
   "outputs": [
    {
     "output_type": "stream",
     "name": "stdout",
     "output_type": "stream",
     "text": [
      "+----+--------+--------+----------+--------+--------+\n|Year|DepDelay|ArrDelay|TotalDelay|Distance|LongHaul|\n+----+--------+--------+----------+--------+--------+\n|2008|      67|      57|     124.0|    1591|    true|\n|2008|      -1|     -18|     -19.0|    1591|    true|\n|2008|      27|      15|      42.0|    1489|    true|\n|2008|       9|     -15|      -6.0|    1489|    true|\n|2008|      87|      47|     134.0|    1093|    true|\n+----+--------+--------+----------+--------+--------+\nonly showing top 5 rows\n\n"
     ]
    }
   ],
   "source": [
    "flight_df.filter(col(\"LongHaul\") == 'True').select(\"Year\", \"DepDelay\", \"ArrDelay\", \"TotalDelay\", \"Distance\", \"LongHaul\").show(5)"
   ]
  },
  {
   "cell_type": "code",
   "execution_count": 0,
   "metadata": {
    "application/vnd.databricks.v1+cell": {
     "cellMetadata": {
      "byteLimit": 2048000,
      "rowLimit": 10000
     },
     "inputWidgets": {},
     "nuid": "2c76fd54-7678-46f1-a238-996304ae6c7c",
     "showTitle": false,
     "tableResultSettingsMap": {},
     "title": ""
    }
   },
   "outputs": [
    {
     "output_type": "stream",
     "name": "stdout",
     "output_type": "stream",
     "text": [
      "['Year', 'Month', 'DayofMonth', 'DayOfWeek', 'DepTime', 'CRSDepTime', 'ArrTime', 'CRSArrTime', 'UniqueCarrier', 'FlightNum', 'TailNum', 'ActualElapsedTime', 'CRSElapsedTime', 'AirTime', 'ArrDelay', 'DepDelay', 'Origin', 'Dest', 'Distance', 'TaxiIn', 'TaxiOut', 'Cancelled', 'CancellationCode', 'Diverted', 'CarrierDelay', 'WeatherDelay', 'NASDelay', 'SecurityDelay', 'LateAircraftDelay']\n"
     ]
    }
   ],
   "source": [
    "print(valid_flight.columns)"
   ]
  },
  {
   "cell_type": "markdown",
   "metadata": {
    "application/vnd.databricks.v1+cell": {
     "cellMetadata": {
      "byteLimit": 2048000,
      "rowLimit": 10000
     },
     "inputWidgets": {},
     "nuid": "d8a1021a-a335-4e16-8f38-71ff163885a4",
     "showTitle": false,
     "tableResultSettingsMap": {},
     "title": ""
    }
   },
   "source": [
    "## Étape 3 : Agrégations et Analyses"
   ]
  },
  {
   "cell_type": "code",
   "execution_count": 0,
   "metadata": {
    "application/vnd.databricks.v1+cell": {
     "cellMetadata": {
      "byteLimit": 2048000,
      "rowLimit": 10000
     },
     "inputWidgets": {},
     "nuid": "c6969e6f-9ed8-4d25-b61d-44002654105b",
     "showTitle": false,
     "tableResultSettingsMap": {},
     "title": ""
    }
   },
   "outputs": [
    {
     "output_type": "stream",
     "name": "stdout",
     "output_type": "stream",
     "text": [
      "+-------------+-----------------+\n|UniqueCarrier|      AvgArrDelay|\n+-------------+-----------------+\n|           WN|5.790533334769635|\n|           XE|4.771433441281745|\n+-------------+-----------------+\n\n"
     ]
    }
   ],
   "source": [
    "# retard moyen à l'arrivee par compagnie aérienne\n",
    "retard_moyen_par_compagnie = flight_df.groupBy(\"UniqueCarrier\") \\\n",
    "  .agg(avg(\"ArrDelay\").alias(\"AvgArrDelay\")) \\\n",
    "    .orderBy(\"AvgArrDelay\", ascending = False)\n",
    "  #.orderBy(col(\"AvgArrDelay\").desc()).show(5)\\\n",
    "retard_moyen_par_compagnie.show(5)\n",
    "  "
   ]
  },
  {
   "cell_type": "code",
   "execution_count": 0,
   "metadata": {
    "application/vnd.databricks.v1+cell": {
     "cellMetadata": {
      "byteLimit": 2048000,
      "rowLimit": 10000
     },
     "inputWidgets": {},
     "nuid": "a394c656-4421-492f-8133-66fabdbc735f",
     "showTitle": false,
     "tableResultSettingsMap": {},
     "title": ""
    }
   },
   "outputs": [
    {
     "output_type": "display_data",
     "data": {
      "text/html": [
       "<style scoped>\n",
       "  .table-result-container {\n",
       "    max-height: 300px;\n",
       "    overflow: auto;\n",
       "  }\n",
       "  table, th, td {\n",
       "    border: 1px solid black;\n",
       "    border-collapse: collapse;\n",
       "  }\n",
       "  th, td {\n",
       "    padding: 5px;\n",
       "  }\n",
       "  th {\n",
       "    text-align: left;\n",
       "  }\n",
       "</style><div class='table-result-container'><table class='table-result'><thead style='background-color: white'><tr><th>UniqueCarrier</th><th>AvgArrDelay</th></tr></thead><tbody><tr><td>WN</td><td>5.790533334769635</td></tr><tr><td>XE</td><td>4.771433441281745</td></tr></tbody></table></div>"
      ]
     },
     "metadata": {
      "application/vnd.databricks.v1+output": {
       "addedWidgets": {},
       "aggData": [],
       "aggError": "",
       "aggOverflow": false,
       "aggSchema": [],
       "aggSeriesLimitReached": false,
       "aggType": "",
       "arguments": {},
       "columnCustomDisplayInfos": {},
       "data": [
        [
         "WN",
         5.790533334769635
        ],
        [
         "XE",
         4.771433441281745
        ]
       ],
       "datasetInfos": [],
       "dbfsResultPath": null,
       "isJsonSchema": true,
       "metadata": {},
       "overflow": false,
       "plotOptions": {
        "customPlotOptions": {},
        "displayType": "table",
        "pivotAggregation": null,
        "pivotColumns": null,
        "xColumns": null,
        "yColumns": null
       },
       "removedWidgets": [],
       "schema": [
        {
         "metadata": "{}",
         "name": "UniqueCarrier",
         "type": "\"string\""
        },
        {
         "metadata": "{}",
         "name": "AvgArrDelay",
         "type": "\"double\""
        }
       ],
       "type": "table"
      }
     },
     "output_type": "display_data"
    }
   ],
   "source": [
    "display(retard_moyen_par_compagnie)"
   ]
  },
  {
   "cell_type": "code",
   "execution_count": 0,
   "metadata": {
    "application/vnd.databricks.v1+cell": {
     "cellMetadata": {
      "byteLimit": 2048000,
      "rowLimit": 10000
     },
     "inputWidgets": {},
     "nuid": "2980e501-e124-404f-b71b-c1d086ac2783",
     "showTitle": false,
     "tableResultSettingsMap": {},
     "title": ""
    }
   },
   "outputs": [
    {
     "output_type": "stream",
     "name": "stdout",
     "output_type": "stream",
     "text": [
      "+----------+----+\n|DayofMonth| Nbr|\n+----------+----+\n|        11|3639|\n|        10|3636|\n|         8|3635|\n|         7|3635|\n|         9|3632|\n+----------+----+\nonly showing top 5 rows\n\n"
     ]
    }
   ],
   "source": [
    "# Nombre de vols par jour\n",
    "nbVols_jour = flight_df.groupBy(\"DayofMonth\") \\\n",
    "  .agg(count(\"*\").alias(\"Nbr\")) \\\n",
    "    .orderBy(\"Nbr\", ascending = False)\n",
    "nbVols_jour.show(5)"
   ]
  },
  {
   "cell_type": "code",
   "execution_count": 0,
   "metadata": {
    "application/vnd.databricks.v1+cell": {
     "cellMetadata": {
      "byteLimit": 2048000,
      "rowLimit": 10000
     },
     "inputWidgets": {},
     "nuid": "66a04fb4-f0c0-4f53-9ed9-dc28ab7a1511",
     "showTitle": false,
     "tableResultSettingsMap": {},
     "title": ""
    }
   },
   "outputs": [
    {
     "output_type": "display_data",
     "data": {
      "text/html": [
       "<style scoped>\n",
       "  .table-result-container {\n",
       "    max-height: 300px;\n",
       "    overflow: auto;\n",
       "  }\n",
       "  table, th, td {\n",
       "    border: 1px solid black;\n",
       "    border-collapse: collapse;\n",
       "  }\n",
       "  th, td {\n",
       "    padding: 5px;\n",
       "  }\n",
       "  th {\n",
       "    text-align: left;\n",
       "  }\n",
       "</style><div class='table-result-container'><table class='table-result'><thead style='background-color: white'><tr><th>DayofMonth</th><th>Nbr</th></tr></thead><tbody><tr><td>11</td><td>3639</td></tr><tr><td>10</td><td>3636</td></tr><tr><td>8</td><td>3635</td></tr><tr><td>7</td><td>3635</td></tr><tr><td>9</td><td>3632</td></tr><tr><td>29</td><td>3632</td></tr><tr><td>25</td><td>3630</td></tr><tr><td>24</td><td>3630</td></tr><tr><td>31</td><td>3630</td></tr><tr><td>17</td><td>3629</td></tr><tr><td>18</td><td>3629</td></tr><tr><td>14</td><td>3628</td></tr><tr><td>28</td><td>3628</td></tr><tr><td>22</td><td>3628</td></tr><tr><td>21</td><td>3628</td></tr><tr><td>15</td><td>3626</td></tr><tr><td>16</td><td>3625</td></tr><tr><td>23</td><td>3625</td></tr><tr><td>30</td><td>3624</td></tr><tr><td>4</td><td>3619</td></tr><tr><td>6</td><td>3418</td></tr><tr><td>20</td><td>3261</td></tr><tr><td>13</td><td>3260</td></tr><tr><td>27</td><td>3257</td></tr><tr><td>5</td><td>2981</td></tr><tr><td>12</td><td>2944</td></tr><tr><td>19</td><td>2681</td></tr><tr><td>26</td><td>2679</td></tr><tr><td>3</td><td>2554</td></tr><tr><td>1</td><td>189</td></tr><tr><td>2</td><td>188</td></tr></tbody></table></div>"
      ]
     },
     "metadata": {
      "application/vnd.databricks.v1+output": {
       "addedWidgets": {},
       "aggData": [],
       "aggError": "",
       "aggOverflow": false,
       "aggSchema": [],
       "aggSeriesLimitReached": false,
       "aggType": "",
       "arguments": {},
       "columnCustomDisplayInfos": {},
       "data": [
        [
         11,
         3639
        ],
        [
         10,
         3636
        ],
        [
         8,
         3635
        ],
        [
         7,
         3635
        ],
        [
         9,
         3632
        ],
        [
         29,
         3632
        ],
        [
         25,
         3630
        ],
        [
         24,
         3630
        ],
        [
         31,
         3630
        ],
        [
         17,
         3629
        ],
        [
         18,
         3629
        ],
        [
         14,
         3628
        ],
        [
         28,
         3628
        ],
        [
         22,
         3628
        ],
        [
         21,
         3628
        ],
        [
         15,
         3626
        ],
        [
         16,
         3625
        ],
        [
         23,
         3625
        ],
        [
         30,
         3624
        ],
        [
         4,
         3619
        ],
        [
         6,
         3418
        ],
        [
         20,
         3261
        ],
        [
         13,
         3260
        ],
        [
         27,
         3257
        ],
        [
         5,
         2981
        ],
        [
         12,
         2944
        ],
        [
         19,
         2681
        ],
        [
         26,
         2679
        ],
        [
         3,
         2554
        ],
        [
         1,
         189
        ],
        [
         2,
         188
        ]
       ],
       "datasetInfos": [],
       "dbfsResultPath": null,
       "isJsonSchema": true,
       "metadata": {},
       "overflow": false,
       "plotOptions": {
        "customPlotOptions": {},
        "displayType": "table",
        "pivotAggregation": null,
        "pivotColumns": null,
        "xColumns": null,
        "yColumns": null
       },
       "removedWidgets": [],
       "schema": [
        {
         "metadata": "{}",
         "name": "DayofMonth",
         "type": "\"integer\""
        },
        {
         "metadata": "{}",
         "name": "Nbr",
         "type": "\"long\""
        }
       ],
       "type": "table"
      }
     },
     "output_type": "display_data"
    },
    {
     "output_type": "display_data",
     "data": {
      "text/plain": [
       "Databricks visualization. Run in Databricks to view."
      ]
     },
     "metadata": {
      "application/vnd.databricks.v1.subcommand+json": {
       "baseErrorDetails": null,
       "bindings": {},
       "collapsed": false,
       "command": "%python\n__backend_agg_display_orig = display\n__backend_agg_dfs = []\ndef __backend_agg_display_new(df):\n    __backend_agg_df_modules = [\"pandas.core.frame\", \"databricks.koalas.frame\", \"pyspark.sql.dataframe\", \"pyspark.pandas.frame\", \"pyspark.sql.connect.dataframe\"]\n    if (type(df).__module__ in __backend_agg_df_modules and type(df).__name__ == 'DataFrame') or isinstance(df, list):\n        __backend_agg_dfs.append(df)\n\ndisplay = __backend_agg_display_new\n\ndef __backend_agg_user_code_fn():\n    import base64\n    exec(base64.standard_b64decode(\"ZGlzcGxheShuYlZvbHNfam91cik=\").decode())\n\ntry:\n    # run user code\n    __backend_agg_user_code_fn()\n\n    #reset display function\n    display = __backend_agg_display_orig\n\n    if len(__backend_agg_dfs) > 0:\n        # create a temp view\n        if type(__backend_agg_dfs[0]).__module__ == \"databricks.koalas.frame\":\n            # koalas dataframe\n            __backend_agg_dfs[0].to_spark().createOrReplaceTempView(\"DatabricksViewcd1c4d9\")\n        elif type(__backend_agg_dfs[0]).__module__ == \"pandas.core.frame\" or isinstance(__backend_agg_dfs[0], list):\n            # pandas dataframe\n            spark.createDataFrame(__backend_agg_dfs[0]).createOrReplaceTempView(\"DatabricksViewcd1c4d9\")\n        else:\n            __backend_agg_dfs[0].createOrReplaceTempView(\"DatabricksViewcd1c4d9\")\n        #run backend agg\n        display(spark.sql(\"\"\"WITH q AS (select * from DatabricksViewcd1c4d9) SELECT `DayofMonth`,SUM(`Nbr`) `column_a493ef292` FROM q GROUP BY `DayofMonth`\"\"\"))\n    else:\n        displayHTML(\"dataframe no longer exists. If you're using dataframe.display(), use display(dataframe) instead.\")\n\n\nfinally:\n    spark.sql(\"drop view if exists DatabricksViewcd1c4d9\")\n    display = __backend_agg_display_orig\n    del __backend_agg_display_new\n    del __backend_agg_display_orig\n    del __backend_agg_dfs\n    del __backend_agg_user_code_fn\n\n",
       "commandTitle": "Visualization 1",
       "commandType": "auto",
       "commandVersion": 0,
       "commentThread": [],
       "commentsVisible": false,
       "contentSha256Hex": null,
       "customPlotOptions": {
        "redashChart": [
         {
          "key": "type",
          "value": "CHART"
         },
         {
          "key": "options",
          "value": {
           "alignYAxesAtZero": true,
           "coefficient": 1,
           "columnConfigurationMap": {
            "x": {
             "column": "DayofMonth",
             "id": "column_a493ef291"
            },
            "y": [
             {
              "column": "Nbr",
              "id": "column_a493ef292",
              "transform": "SUM"
             }
            ]
           },
           "dateTimeFormat": "DD/MM/YYYY HH:mm",
           "direction": {
            "type": "counterclockwise"
           },
           "error_y": {
            "type": "data",
            "visible": true
           },
           "globalSeriesType": "area",
           "isAggregationOn": true,
           "legend": {
            "traceorder": "normal"
           },
           "missingValuesAsZero": true,
           "numberFormat": "0,0.[00000]",
           "percentFormat": "0[.]00%",
           "series": {
            "error_y": {
             "type": "data",
             "visible": true
            },
            "stacking": null
           },
           "seriesOptions": {
            "column_a493ef292": {
             "name": "Nbr",
             "type": "area",
             "yAxis": 0
            }
           },
           "showDataLabels": false,
           "sizemode": "diameter",
           "sortX": true,
           "sortY": true,
           "swappedAxes": false,
           "textFormat": "",
           "useAggregationsUi": true,
           "valuesOptions": {},
           "version": 2,
           "xAxis": {
            "labels": {
             "enabled": true
            },
            "type": "-"
           },
           "yAxis": [
            {
             "type": "-"
            },
            {
             "opposite": true,
             "type": "-"
            }
           ]
          }
         }
        ]
       },
       "datasetPreviewNameToCmdIdMap": {},
       "diffDeletes": [],
       "diffInserts": [],
       "displayType": "redashChart",
       "error": null,
       "errorDetails": null,
       "errorSummary": null,
       "errorTraceType": null,
       "finishTime": 0,
       "globalVars": {},
       "guid": "",
       "height": "auto",
       "hideCommandCode": false,
       "hideCommandResult": false,
       "iPythonMetadata": null,
       "inputWidgets": {},
       "isLockedInExamMode": false,
       "latestUser": "a user",
       "latestUserId": null,
       "listResultMetadata": null,
       "metadata": {
        "byteLimit": 2048000,
        "rowLimit": 10000
       },
       "nuid": "54922681-5822-4a8e-b81e-aee5cc4e8d87",
       "origId": 0,
       "parentHierarchy": [],
       "pivotAggregation": null,
       "pivotColumns": null,
       "position": 20.5,
       "resultDbfsErrorMessage": null,
       "resultDbfsStatus": "INLINED_IN_TREE",
       "results": null,
       "showCommandTitle": false,
       "startTime": 0,
       "state": "finished",
       "streamStates": {},
       "subcommandOptions": {
        "queryPlan": {
         "groups": [
          {
           "column": "DayofMonth",
           "type": "column"
          }
         ],
         "selects": [
          {
           "column": "DayofMonth",
           "type": "column"
          },
          {
           "alias": "column_a493ef292",
           "args": [
            {
             "column": "Nbr",
             "type": "column"
            }
           ],
           "function": "SUM",
           "type": "function"
          }
         ]
        }
       },
       "submitTime": 0,
       "subtype": "tableResultSubCmd.visualization",
       "tableResultIndex": 0,
       "tableResultSettingsMap": {},
       "useConsistentColors": false,
       "version": "CommandV1",
       "width": "auto",
       "workflows": [],
       "xColumns": null,
       "yColumns": null
      }
     },
     "output_type": "display_data"
    }
   ],
   "source": [
    "display(nbVols_jour)"
   ]
  },
  {
   "cell_type": "code",
   "execution_count": 0,
   "metadata": {
    "application/vnd.databricks.v1+cell": {
     "cellMetadata": {
      "byteLimit": 2048000,
      "rowLimit": 10000
     },
     "inputWidgets": {},
     "nuid": "ad372e86-bddc-4f27-a690-ca2abc0b1837",
     "showTitle": false,
     "tableResultSettingsMap": {},
     "title": ""
    }
   },
   "outputs": [
    {
     "output_type": "stream",
     "name": "stdout",
     "output_type": "stream",
     "text": [
      "+------+-----------+-----------+-----------------+\n|Origin|MinDistance|MaxDistance|      AvgDistance|\n+------+-----------+-----------+-----------------+\n|   CRW|        975|        975|            975.0|\n|   DAY|        929|        929|            929.0|\n|   CLT|        913|        913|            913.0|\n|   MCO|        133|       2039| 848.926586102719|\n|   MDW|        162|       1855|847.9305116866709|\n|   ISP|        220|       2283| 838.712858926342|\n|   COS|        789|        911|837.7182320441989|\n|   SEA|        224|       1977|820.7069625095639|\n|   OMA|        342|       1313|820.3773913043478|\n|   IAD|        577|       2066|795.5351170568562|\n+------+-----------+-----------+-----------------+\nonly showing top 10 rows\n\n"
     ]
    }
   ],
   "source": [
    "# statistiques sur les distances par aéroport d'origine\n",
    "df_stats = flight_df.groupBy(\"Origin\") \\\n",
    "  .agg(min(\"Distance\").alias(\"MinDistance\"),\n",
    "       max(\"Distance\").alias(\"MaxDistance\"),\n",
    "       avg(\"Distance\").alias(\"AvgDistance\")\n",
    "       ).orderBy(\"AvgDistance\", ascending = False) \\\n",
    "\n",
    "stats.show(10)"
   ]
  },
  {
   "cell_type": "code",
   "execution_count": 0,
   "metadata": {
    "application/vnd.databricks.v1+cell": {
     "cellMetadata": {
      "byteLimit": 2048000,
      "rowLimit": 10000
     },
     "inputWidgets": {},
     "nuid": "a1104f05-d287-404a-a5e0-dc18af5b8da8",
     "showTitle": false,
     "tableResultSettingsMap": {},
     "title": ""
    }
   },
   "outputs": [
    {
     "output_type": "display_data",
     "data": {
      "text/html": [
       "<style scoped>\n",
       "  .table-result-container {\n",
       "    max-height: 300px;\n",
       "    overflow: auto;\n",
       "  }\n",
       "  table, th, td {\n",
       "    border: 1px solid black;\n",
       "    border-collapse: collapse;\n",
       "  }\n",
       "  th, td {\n",
       "    padding: 5px;\n",
       "  }\n",
       "  th {\n",
       "    text-align: left;\n",
       "  }\n",
       "</style><div class='table-result-container'><table class='table-result'><thead style='background-color: white'><tr><th>Origin</th><th>MinDistance</th><th>MaxDistance</th><th>AvgDistance</th></tr></thead><tbody><tr><td>CRW</td><td>975</td><td>975</td><td>975.0</td></tr><tr><td>DAY</td><td>929</td><td>929</td><td>929.0</td></tr><tr><td>CLT</td><td>913</td><td>913</td><td>913.0</td></tr><tr><td>MCO</td><td>133</td><td>2039</td><td>848.926586102719</td></tr><tr><td>MDW</td><td>162</td><td>1855</td><td>847.9305116866709</td></tr><tr><td>ISP</td><td>220</td><td>2283</td><td>838.712858926342</td></tr><tr><td>COS</td><td>789</td><td>911</td><td>837.7182320441989</td></tr><tr><td>SEA</td><td>224</td><td>1977</td><td>820.7069625095639</td></tr><tr><td>OMA</td><td>342</td><td>1313</td><td>820.3773913043478</td></tr><tr><td>IAD</td><td>577</td><td>2066</td><td>795.5351170568562</td></tr><tr><td>DEN</td><td>349</td><td>1545</td><td>781.4701247537754</td></tr><tr><td>IAH</td><td>438</td><td>1195</td><td>776.1111111111111</td></tr><tr><td>BNA</td><td>177</td><td>1977</td><td>775.8560804899388</td></tr><tr><td>TPA</td><td>174</td><td>1984</td><td>773.6413908671973</td></tr><tr><td>PVD</td><td>238</td><td>2363</td><td>750.2712933753943</td></tr><tr><td>MHT</td><td>290</td><td>2356</td><td>749.5383720930232</td></tr><tr><td>IND</td><td>162</td><td>1591</td><td>745.8511530398323</td></tr><tr><td>MCI</td><td>223</td><td>1489</td><td>744.5761947700631</td></tr><tr><td>BUF</td><td>281</td><td>1987</td><td>741.6724137931035</td></tr><tr><td>ALB</td><td>288</td><td>2237</td><td>729.2388451443569</td></tr><tr><td>PHX</td><td>256</td><td>2279</td><td>726.9035560344828</td></tr><tr><td>PBI</td><td>174</td><td>1052</td><td>726.0361111111112</td></tr><tr><td>LAS</td><td>197</td><td>2363</td><td>721.2876631949538</td></tr><tr><td>ORD</td><td>719</td><td>719</td><td>719.0</td></tr><tr><td>BDL</td><td>283</td><td>2298</td><td>714.5360623781677</td></tr><tr><td>RSW</td><td>133</td><td>1105</td><td>707.0909090909091</td></tr><tr><td>PHL</td><td>238</td><td>2176</td><td>704.4200700116686</td></tr><tr><td>BWI</td><td>159</td><td>2295</td><td>664.2077326343382</td></tr><tr><td>PDX</td><td>279</td><td>1751</td><td>645.6822742474916</td></tr><tr><td>FLL</td><td>178</td><td>1188</td><td>642.1010860484545</td></tr><tr><td>ABQ</td><td>223</td><td>1670</td><td>629.9240196078431</td></tr><tr><td>CHS</td><td>628</td><td>628</td><td>628.0</td></tr><tr><td>SAT</td><td>66</td><td>1463</td><td>625.1412977562159</td></tr><tr><td>EWR</td><td>116</td><td>1133</td><td>624.2142857142857</td></tr><tr><td>RDU</td><td>255</td><td>2027</td><td>622.8699910952805</td></tr><tr><td>PIT</td><td>210</td><td>1910</td><td>616.9237947122862</td></tr><tr><td>SAN</td><td>94</td><td>2295</td><td>614.0687799043062</td></tr><tr><td>STL</td><td>237</td><td>1593</td><td>605.5869351669941</td></tr><tr><td>TUS</td><td>269</td><td>1440</td><td>597.0883668903803</td></tr><tr><td>AUS</td><td>148</td><td>1342</td><td>592.7417342482845</td></tr><tr><td>OKC</td><td>181</td><td>1342</td><td>587.8158205430933</td></tr><tr><td>ORF</td><td>159</td><td>2155</td><td>586.5439560439561</td></tr><tr><td>SLC</td><td>291</td><td>1864</td><td>585.7803129074316</td></tr><tr><td>CMH</td><td>284</td><td>1772</td><td>583.6782496782497</td></tr><tr><td>LAX</td><td>236</td><td>1797</td><td>577.9664588898783</td></tr><tr><td>GEG</td><td>224</td><td>1125</td><td>573.2213967310549</td></tr><tr><td>JAN</td><td>359</td><td>888</td><td>572.712</td></tr><tr><td>SFO</td><td>337</td><td>1855</td><td>569.1251682368775</td></tr><tr><td>TUL</td><td>111</td><td>1419</td><td>562.0345323741008</td></tr><tr><td>HOU</td><td>148</td><td>1642</td><td>560.9866666666667</td></tr><tr><td>OAK</td><td>180</td><td>1959</td><td>550.3550265890099</td></tr><tr><td>SDF</td><td>254</td><td>1624</td><td>546.5218914185639</td></tr><tr><td>SMF</td><td>265</td><td>1790</td><td>545.5903614457832</td></tr><tr><td>MSY</td><td>303</td><td>1501</td><td>542.6708268330733</td></tr><tr><td>BHM</td><td>177</td><td>1618</td><td>542.1982323232323</td></tr><tr><td>ONT</td><td>94</td><td>1751</td><td>508.89274725274726</td></tr><tr><td>LIT</td><td>296</td><td>1295</td><td>506.90909090909093</td></tr><tr><td>JAX</td><td>180</td><td>956</td><td>506.68658536585366</td></tr><tr><td>ELP</td><td>223</td><td>714</td><td>496.65968586387436</td></tr><tr><td>CLE</td><td>192</td><td>1825</td><td>496.14489795918365</td></tr><tr><td>DTW</td><td>229</td><td>1671</td><td>470.56396396396394</td></tr><tr><td>BOI</td><td>287</td><td>749</td><td>436.58851674641147</td></tr><tr><td>SJC</td><td>188</td><td>1838</td><td>422.51297223486574</td></tr><tr><td>RNO</td><td>180</td><td>1680</td><td>412.47877358490564</td></tr><tr><td>MAF</td><td>294</td><td>796</td><td>378.33130699088144</td></tr><tr><td>AMA</td><td>277</td><td>758</td><td>364.0820189274448</td></tr><tr><td>SNA</td><td>226</td><td>404</td><td>341.32986767485824</td></tr><tr><td>LBB</td><td>289</td><td>775</td><td>339.39444444444445</td></tr><tr><td>MRY</td><td>283</td><td>376</td><td>335.5892857142857</td></tr><tr><td>DAL</td><td>181</td><td>587</td><td>330.15290780141845</td></tr><tr><td>MKE</td><td>328</td><td>328</td><td>328.0</td></tr><tr><td>LGB</td><td>222</td><td>953</td><td>317.35555555555555</td></tr><tr><td>SYR</td><td>317</td><td>317</td><td>317.0</td></tr><tr><td>BUR</td><td>223</td><td>369</td><td>311.16676999380036</td></tr><tr><td>HRL</td><td>233</td><td>276</td><td>268.23870967741937</td></tr><tr><td>FAT</td><td>222</td><td>314</td><td>260.70344827586206</td></tr><tr><td>BTR</td><td>253</td><td>253</td><td>253.0</td></tr><tr><td>ROC</td><td>246</td><td>246</td><td>246.0</td></tr><tr><td>BFL</td><td>215</td><td>265</td><td>239.59016393442624</td></tr><tr><td>LFT</td><td>201</td><td>201</td><td>201.0</td></tr><tr><td>CRP</td><td>187</td><td>187</td><td>187.0</td></tr><tr><td>LCH</td><td>127</td><td>127</td><td>127.0</td></tr></tbody></table></div>"
      ]
     },
     "metadata": {
      "application/vnd.databricks.v1+output": {
       "addedWidgets": {},
       "aggData": [],
       "aggError": "",
       "aggOverflow": false,
       "aggSchema": [],
       "aggSeriesLimitReached": false,
       "aggType": "",
       "arguments": {},
       "columnCustomDisplayInfos": {},
       "data": [
        [
         "CRW",
         975,
         975,
         975.0
        ],
        [
         "DAY",
         929,
         929,
         929.0
        ],
        [
         "CLT",
         913,
         913,
         913.0
        ],
        [
         "MCO",
         133,
         2039,
         848.926586102719
        ],
        [
         "MDW",
         162,
         1855,
         847.9305116866709
        ],
        [
         "ISP",
         220,
         2283,
         838.712858926342
        ],
        [
         "COS",
         789,
         911,
         837.7182320441989
        ],
        [
         "SEA",
         224,
         1977,
         820.7069625095639
        ],
        [
         "OMA",
         342,
         1313,
         820.3773913043478
        ],
        [
         "IAD",
         577,
         2066,
         795.5351170568562
        ],
        [
         "DEN",
         349,
         1545,
         781.4701247537754
        ],
        [
         "IAH",
         438,
         1195,
         776.1111111111111
        ],
        [
         "BNA",
         177,
         1977,
         775.8560804899388
        ],
        [
         "TPA",
         174,
         1984,
         773.6413908671973
        ],
        [
         "PVD",
         238,
         2363,
         750.2712933753943
        ],
        [
         "MHT",
         290,
         2356,
         749.5383720930232
        ],
        [
         "IND",
         162,
         1591,
         745.8511530398323
        ],
        [
         "MCI",
         223,
         1489,
         744.5761947700631
        ],
        [
         "BUF",
         281,
         1987,
         741.6724137931035
        ],
        [
         "ALB",
         288,
         2237,
         729.2388451443569
        ],
        [
         "PHX",
         256,
         2279,
         726.9035560344828
        ],
        [
         "PBI",
         174,
         1052,
         726.0361111111112
        ],
        [
         "LAS",
         197,
         2363,
         721.2876631949538
        ],
        [
         "ORD",
         719,
         719,
         719.0
        ],
        [
         "BDL",
         283,
         2298,
         714.5360623781677
        ],
        [
         "RSW",
         133,
         1105,
         707.0909090909091
        ],
        [
         "PHL",
         238,
         2176,
         704.4200700116686
        ],
        [
         "BWI",
         159,
         2295,
         664.2077326343382
        ],
        [
         "PDX",
         279,
         1751,
         645.6822742474916
        ],
        [
         "FLL",
         178,
         1188,
         642.1010860484545
        ],
        [
         "ABQ",
         223,
         1670,
         629.9240196078431
        ],
        [
         "CHS",
         628,
         628,
         628.0
        ],
        [
         "SAT",
         66,
         1463,
         625.1412977562159
        ],
        [
         "EWR",
         116,
         1133,
         624.2142857142857
        ],
        [
         "RDU",
         255,
         2027,
         622.8699910952805
        ],
        [
         "PIT",
         210,
         1910,
         616.9237947122862
        ],
        [
         "SAN",
         94,
         2295,
         614.0687799043062
        ],
        [
         "STL",
         237,
         1593,
         605.5869351669941
        ],
        [
         "TUS",
         269,
         1440,
         597.0883668903803
        ],
        [
         "AUS",
         148,
         1342,
         592.7417342482845
        ],
        [
         "OKC",
         181,
         1342,
         587.8158205430933
        ],
        [
         "ORF",
         159,
         2155,
         586.5439560439561
        ],
        [
         "SLC",
         291,
         1864,
         585.7803129074316
        ],
        [
         "CMH",
         284,
         1772,
         583.6782496782497
        ],
        [
         "LAX",
         236,
         1797,
         577.9664588898783
        ],
        [
         "GEG",
         224,
         1125,
         573.2213967310549
        ],
        [
         "JAN",
         359,
         888,
         572.712
        ],
        [
         "SFO",
         337,
         1855,
         569.1251682368775
        ],
        [
         "TUL",
         111,
         1419,
         562.0345323741008
        ],
        [
         "HOU",
         148,
         1642,
         560.9866666666667
        ],
        [
         "OAK",
         180,
         1959,
         550.3550265890099
        ],
        [
         "SDF",
         254,
         1624,
         546.5218914185639
        ],
        [
         "SMF",
         265,
         1790,
         545.5903614457832
        ],
        [
         "MSY",
         303,
         1501,
         542.6708268330733
        ],
        [
         "BHM",
         177,
         1618,
         542.1982323232323
        ],
        [
         "ONT",
         94,
         1751,
         508.89274725274726
        ],
        [
         "LIT",
         296,
         1295,
         506.90909090909093
        ],
        [
         "JAX",
         180,
         956,
         506.68658536585366
        ],
        [
         "ELP",
         223,
         714,
         496.65968586387436
        ],
        [
         "CLE",
         192,
         1825,
         496.14489795918365
        ],
        [
         "DTW",
         229,
         1671,
         470.56396396396394
        ],
        [
         "BOI",
         287,
         749,
         436.58851674641147
        ],
        [
         "SJC",
         188,
         1838,
         422.51297223486574
        ],
        [
         "RNO",
         180,
         1680,
         412.47877358490564
        ],
        [
         "MAF",
         294,
         796,
         378.33130699088144
        ],
        [
         "AMA",
         277,
         758,
         364.0820189274448
        ],
        [
         "SNA",
         226,
         404,
         341.32986767485824
        ],
        [
         "LBB",
         289,
         775,
         339.39444444444445
        ],
        [
         "MRY",
         283,
         376,
         335.5892857142857
        ],
        [
         "DAL",
         181,
         587,
         330.15290780141845
        ],
        [
         "MKE",
         328,
         328,
         328.0
        ],
        [
         "LGB",
         222,
         953,
         317.35555555555555
        ],
        [
         "SYR",
         317,
         317,
         317.0
        ],
        [
         "BUR",
         223,
         369,
         311.16676999380036
        ],
        [
         "HRL",
         233,
         276,
         268.23870967741937
        ],
        [
         "FAT",
         222,
         314,
         260.70344827586206
        ],
        [
         "BTR",
         253,
         253,
         253.0
        ],
        [
         "ROC",
         246,
         246,
         246.0
        ],
        [
         "BFL",
         215,
         265,
         239.59016393442624
        ],
        [
         "LFT",
         201,
         201,
         201.0
        ],
        [
         "CRP",
         187,
         187,
         187.0
        ],
        [
         "LCH",
         127,
         127,
         127.0
        ]
       ],
       "datasetInfos": [],
       "dbfsResultPath": null,
       "isJsonSchema": true,
       "metadata": {},
       "overflow": false,
       "plotOptions": {
        "customPlotOptions": {},
        "displayType": "table",
        "pivotAggregation": null,
        "pivotColumns": null,
        "xColumns": null,
        "yColumns": null
       },
       "removedWidgets": [],
       "schema": [
        {
         "metadata": "{}",
         "name": "Origin",
         "type": "\"string\""
        },
        {
         "metadata": "{}",
         "name": "MinDistance",
         "type": "\"integer\""
        },
        {
         "metadata": "{}",
         "name": "MaxDistance",
         "type": "\"integer\""
        },
        {
         "metadata": "{}",
         "name": "AvgDistance",
         "type": "\"double\""
        }
       ],
       "type": "table"
      }
     },
     "output_type": "display_data"
    }
   ],
   "source": [
    "# visualiser les resultats\n",
    "display(df_stats)"
   ]
  },
  {
   "cell_type": "markdown",
   "metadata": {
    "application/vnd.databricks.v1+cell": {
     "cellMetadata": {},
     "inputWidgets": {},
     "nuid": "2d566e62-1e6a-44d6-801a-cd0263ea68d3",
     "showTitle": false,
     "tableResultSettingsMap": {},
     "title": ""
    }
   },
   "source": [
    "## Exporter les résultats"
   ]
  },
  {
   "cell_type": "markdown",
   "metadata": {
    "application/vnd.databricks.v1+cell": {
     "cellMetadata": {},
     "inputWidgets": {},
     "nuid": "7330562a-f0dc-4858-9a6b-0858f1bcb9bc",
     "showTitle": false,
     "tableResultSettingsMap": {},
     "title": ""
    }
   },
   "source": [
    "Le format Parquet est un format de stockage colonnaire, compressé et optimisé pour les systèmes Big Data, permettant des analyses rapides et efficaces tout en réduisant la taille des fichiers."
   ]
  },
  {
   "cell_type": "code",
   "execution_count": 0,
   "metadata": {
    "application/vnd.databricks.v1+cell": {
     "cellMetadata": {
      "byteLimit": 2048000,
      "rowLimit": 10000
     },
     "inputWidgets": {},
     "nuid": "05e4a508-7de6-4885-b322-b749fb0b57be",
     "showTitle": false,
     "tableResultSettingsMap": {},
     "title": ""
    }
   },
   "outputs": [
    {
     "output_type": "stream",
     "name": "stdout",
     "output_type": "stream",
     "text": [
      "Les données sauvegardées à : /FileStore/tables/df_stats\n"
     ]
    }
   ],
   "source": [
    "output_parquet = \"/FileStore/tables/df_stats\"\n",
    "df_stats.write \\\n",
    "    .format(\"parquet\") \\\n",
    "    .option(\"compression\", \"snappy\") \\\n",
    "    .mode(\"overwrite\") \\\n",
    "    .partitionBy(\"Origin\") \\\n",
    "    .save(output_parquet)\n",
    "print(f\"Les données sauvegardées à : {output_parquet}\")"
   ]
  },
  {
   "cell_type": "code",
   "execution_count": 0,
   "metadata": {
    "application/vnd.databricks.v1+cell": {
     "cellMetadata": {
      "byteLimit": 2048000,
      "rowLimit": 10000
     },
     "inputWidgets": {},
     "nuid": "f84d6355-ddb5-4dd0-8891-add67a74a1e0",
     "showTitle": false,
     "tableResultSettingsMap": {},
     "title": ""
    }
   },
   "outputs": [
    {
     "output_type": "display_data",
     "data": {
      "text/html": [
       "<style scoped>\n",
       "  .table-result-container {\n",
       "    max-height: 300px;\n",
       "    overflow: auto;\n",
       "  }\n",
       "  table, th, td {\n",
       "    border: 1px solid black;\n",
       "    border-collapse: collapse;\n",
       "  }\n",
       "  th, td {\n",
       "    padding: 5px;\n",
       "  }\n",
       "  th {\n",
       "    text-align: left;\n",
       "  }\n",
       "</style><div class='table-result-container'><table class='table-result'><thead style='background-color: white'><tr><th>path</th><th>name</th><th>size</th><th>modificationTime</th></tr></thead><tbody><tr><td>dbfs:/FileStore/tables/df_stats/Origin=ABQ/</td><td>Origin=ABQ/</td><td>0</td><td>0</td></tr><tr><td>dbfs:/FileStore/tables/df_stats/Origin=ALB/</td><td>Origin=ALB/</td><td>0</td><td>0</td></tr><tr><td>dbfs:/FileStore/tables/df_stats/Origin=AMA/</td><td>Origin=AMA/</td><td>0</td><td>0</td></tr><tr><td>dbfs:/FileStore/tables/df_stats/Origin=AUS/</td><td>Origin=AUS/</td><td>0</td><td>0</td></tr><tr><td>dbfs:/FileStore/tables/df_stats/Origin=BDL/</td><td>Origin=BDL/</td><td>0</td><td>0</td></tr><tr><td>dbfs:/FileStore/tables/df_stats/Origin=BFL/</td><td>Origin=BFL/</td><td>0</td><td>0</td></tr><tr><td>dbfs:/FileStore/tables/df_stats/Origin=BHM/</td><td>Origin=BHM/</td><td>0</td><td>0</td></tr><tr><td>dbfs:/FileStore/tables/df_stats/Origin=BNA/</td><td>Origin=BNA/</td><td>0</td><td>0</td></tr><tr><td>dbfs:/FileStore/tables/df_stats/Origin=BOI/</td><td>Origin=BOI/</td><td>0</td><td>0</td></tr><tr><td>dbfs:/FileStore/tables/df_stats/Origin=BTR/</td><td>Origin=BTR/</td><td>0</td><td>0</td></tr><tr><td>dbfs:/FileStore/tables/df_stats/Origin=BUF/</td><td>Origin=BUF/</td><td>0</td><td>0</td></tr><tr><td>dbfs:/FileStore/tables/df_stats/Origin=BUR/</td><td>Origin=BUR/</td><td>0</td><td>0</td></tr><tr><td>dbfs:/FileStore/tables/df_stats/Origin=BWI/</td><td>Origin=BWI/</td><td>0</td><td>0</td></tr><tr><td>dbfs:/FileStore/tables/df_stats/Origin=CHS/</td><td>Origin=CHS/</td><td>0</td><td>0</td></tr><tr><td>dbfs:/FileStore/tables/df_stats/Origin=CLE/</td><td>Origin=CLE/</td><td>0</td><td>0</td></tr><tr><td>dbfs:/FileStore/tables/df_stats/Origin=CLT/</td><td>Origin=CLT/</td><td>0</td><td>0</td></tr><tr><td>dbfs:/FileStore/tables/df_stats/Origin=CMH/</td><td>Origin=CMH/</td><td>0</td><td>0</td></tr><tr><td>dbfs:/FileStore/tables/df_stats/Origin=COS/</td><td>Origin=COS/</td><td>0</td><td>0</td></tr><tr><td>dbfs:/FileStore/tables/df_stats/Origin=CRP/</td><td>Origin=CRP/</td><td>0</td><td>0</td></tr><tr><td>dbfs:/FileStore/tables/df_stats/Origin=CRW/</td><td>Origin=CRW/</td><td>0</td><td>0</td></tr><tr><td>dbfs:/FileStore/tables/df_stats/Origin=DAL/</td><td>Origin=DAL/</td><td>0</td><td>0</td></tr><tr><td>dbfs:/FileStore/tables/df_stats/Origin=DAY/</td><td>Origin=DAY/</td><td>0</td><td>0</td></tr><tr><td>dbfs:/FileStore/tables/df_stats/Origin=DEN/</td><td>Origin=DEN/</td><td>0</td><td>0</td></tr><tr><td>dbfs:/FileStore/tables/df_stats/Origin=DTW/</td><td>Origin=DTW/</td><td>0</td><td>0</td></tr><tr><td>dbfs:/FileStore/tables/df_stats/Origin=ELP/</td><td>Origin=ELP/</td><td>0</td><td>0</td></tr><tr><td>dbfs:/FileStore/tables/df_stats/Origin=EWR/</td><td>Origin=EWR/</td><td>0</td><td>0</td></tr><tr><td>dbfs:/FileStore/tables/df_stats/Origin=FAT/</td><td>Origin=FAT/</td><td>0</td><td>0</td></tr><tr><td>dbfs:/FileStore/tables/df_stats/Origin=FLL/</td><td>Origin=FLL/</td><td>0</td><td>0</td></tr><tr><td>dbfs:/FileStore/tables/df_stats/Origin=GEG/</td><td>Origin=GEG/</td><td>0</td><td>0</td></tr><tr><td>dbfs:/FileStore/tables/df_stats/Origin=HOU/</td><td>Origin=HOU/</td><td>0</td><td>0</td></tr><tr><td>dbfs:/FileStore/tables/df_stats/Origin=HRL/</td><td>Origin=HRL/</td><td>0</td><td>0</td></tr><tr><td>dbfs:/FileStore/tables/df_stats/Origin=IAD/</td><td>Origin=IAD/</td><td>0</td><td>0</td></tr><tr><td>dbfs:/FileStore/tables/df_stats/Origin=IAH/</td><td>Origin=IAH/</td><td>0</td><td>0</td></tr><tr><td>dbfs:/FileStore/tables/df_stats/Origin=IND/</td><td>Origin=IND/</td><td>0</td><td>0</td></tr><tr><td>dbfs:/FileStore/tables/df_stats/Origin=ISP/</td><td>Origin=ISP/</td><td>0</td><td>0</td></tr><tr><td>dbfs:/FileStore/tables/df_stats/Origin=JAN/</td><td>Origin=JAN/</td><td>0</td><td>0</td></tr><tr><td>dbfs:/FileStore/tables/df_stats/Origin=JAX/</td><td>Origin=JAX/</td><td>0</td><td>0</td></tr><tr><td>dbfs:/FileStore/tables/df_stats/Origin=LAS/</td><td>Origin=LAS/</td><td>0</td><td>0</td></tr><tr><td>dbfs:/FileStore/tables/df_stats/Origin=LAX/</td><td>Origin=LAX/</td><td>0</td><td>0</td></tr><tr><td>dbfs:/FileStore/tables/df_stats/Origin=LBB/</td><td>Origin=LBB/</td><td>0</td><td>0</td></tr><tr><td>dbfs:/FileStore/tables/df_stats/Origin=LCH/</td><td>Origin=LCH/</td><td>0</td><td>0</td></tr><tr><td>dbfs:/FileStore/tables/df_stats/Origin=LFT/</td><td>Origin=LFT/</td><td>0</td><td>0</td></tr><tr><td>dbfs:/FileStore/tables/df_stats/Origin=LGB/</td><td>Origin=LGB/</td><td>0</td><td>0</td></tr><tr><td>dbfs:/FileStore/tables/df_stats/Origin=LIT/</td><td>Origin=LIT/</td><td>0</td><td>0</td></tr><tr><td>dbfs:/FileStore/tables/df_stats/Origin=MAF/</td><td>Origin=MAF/</td><td>0</td><td>0</td></tr><tr><td>dbfs:/FileStore/tables/df_stats/Origin=MCI/</td><td>Origin=MCI/</td><td>0</td><td>0</td></tr><tr><td>dbfs:/FileStore/tables/df_stats/Origin=MCO/</td><td>Origin=MCO/</td><td>0</td><td>0</td></tr><tr><td>dbfs:/FileStore/tables/df_stats/Origin=MDW/</td><td>Origin=MDW/</td><td>0</td><td>0</td></tr><tr><td>dbfs:/FileStore/tables/df_stats/Origin=MHT/</td><td>Origin=MHT/</td><td>0</td><td>0</td></tr><tr><td>dbfs:/FileStore/tables/df_stats/Origin=MKE/</td><td>Origin=MKE/</td><td>0</td><td>0</td></tr><tr><td>dbfs:/FileStore/tables/df_stats/Origin=MRY/</td><td>Origin=MRY/</td><td>0</td><td>0</td></tr><tr><td>dbfs:/FileStore/tables/df_stats/Origin=MSY/</td><td>Origin=MSY/</td><td>0</td><td>0</td></tr><tr><td>dbfs:/FileStore/tables/df_stats/Origin=OAK/</td><td>Origin=OAK/</td><td>0</td><td>0</td></tr><tr><td>dbfs:/FileStore/tables/df_stats/Origin=OKC/</td><td>Origin=OKC/</td><td>0</td><td>0</td></tr><tr><td>dbfs:/FileStore/tables/df_stats/Origin=OMA/</td><td>Origin=OMA/</td><td>0</td><td>0</td></tr><tr><td>dbfs:/FileStore/tables/df_stats/Origin=ONT/</td><td>Origin=ONT/</td><td>0</td><td>0</td></tr><tr><td>dbfs:/FileStore/tables/df_stats/Origin=ORD/</td><td>Origin=ORD/</td><td>0</td><td>0</td></tr><tr><td>dbfs:/FileStore/tables/df_stats/Origin=ORF/</td><td>Origin=ORF/</td><td>0</td><td>0</td></tr><tr><td>dbfs:/FileStore/tables/df_stats/Origin=PBI/</td><td>Origin=PBI/</td><td>0</td><td>0</td></tr><tr><td>dbfs:/FileStore/tables/df_stats/Origin=PDX/</td><td>Origin=PDX/</td><td>0</td><td>0</td></tr><tr><td>dbfs:/FileStore/tables/df_stats/Origin=PHL/</td><td>Origin=PHL/</td><td>0</td><td>0</td></tr><tr><td>dbfs:/FileStore/tables/df_stats/Origin=PHX/</td><td>Origin=PHX/</td><td>0</td><td>0</td></tr><tr><td>dbfs:/FileStore/tables/df_stats/Origin=PIT/</td><td>Origin=PIT/</td><td>0</td><td>0</td></tr><tr><td>dbfs:/FileStore/tables/df_stats/Origin=PVD/</td><td>Origin=PVD/</td><td>0</td><td>0</td></tr><tr><td>dbfs:/FileStore/tables/df_stats/Origin=RDU/</td><td>Origin=RDU/</td><td>0</td><td>0</td></tr><tr><td>dbfs:/FileStore/tables/df_stats/Origin=RNO/</td><td>Origin=RNO/</td><td>0</td><td>0</td></tr><tr><td>dbfs:/FileStore/tables/df_stats/Origin=ROC/</td><td>Origin=ROC/</td><td>0</td><td>0</td></tr><tr><td>dbfs:/FileStore/tables/df_stats/Origin=RSW/</td><td>Origin=RSW/</td><td>0</td><td>0</td></tr><tr><td>dbfs:/FileStore/tables/df_stats/Origin=SAN/</td><td>Origin=SAN/</td><td>0</td><td>0</td></tr><tr><td>dbfs:/FileStore/tables/df_stats/Origin=SAT/</td><td>Origin=SAT/</td><td>0</td><td>0</td></tr><tr><td>dbfs:/FileStore/tables/df_stats/Origin=SDF/</td><td>Origin=SDF/</td><td>0</td><td>0</td></tr><tr><td>dbfs:/FileStore/tables/df_stats/Origin=SEA/</td><td>Origin=SEA/</td><td>0</td><td>0</td></tr><tr><td>dbfs:/FileStore/tables/df_stats/Origin=SFO/</td><td>Origin=SFO/</td><td>0</td><td>0</td></tr><tr><td>dbfs:/FileStore/tables/df_stats/Origin=SJC/</td><td>Origin=SJC/</td><td>0</td><td>0</td></tr><tr><td>dbfs:/FileStore/tables/df_stats/Origin=SLC/</td><td>Origin=SLC/</td><td>0</td><td>0</td></tr><tr><td>dbfs:/FileStore/tables/df_stats/Origin=SMF/</td><td>Origin=SMF/</td><td>0</td><td>0</td></tr><tr><td>dbfs:/FileStore/tables/df_stats/Origin=SNA/</td><td>Origin=SNA/</td><td>0</td><td>0</td></tr><tr><td>dbfs:/FileStore/tables/df_stats/Origin=STL/</td><td>Origin=STL/</td><td>0</td><td>0</td></tr><tr><td>dbfs:/FileStore/tables/df_stats/Origin=SYR/</td><td>Origin=SYR/</td><td>0</td><td>0</td></tr><tr><td>dbfs:/FileStore/tables/df_stats/Origin=TPA/</td><td>Origin=TPA/</td><td>0</td><td>0</td></tr><tr><td>dbfs:/FileStore/tables/df_stats/Origin=TUL/</td><td>Origin=TUL/</td><td>0</td><td>0</td></tr><tr><td>dbfs:/FileStore/tables/df_stats/Origin=TUS/</td><td>Origin=TUS/</td><td>0</td><td>0</td></tr><tr><td>dbfs:/FileStore/tables/df_stats/_SUCCESS</td><td>_SUCCESS</td><td>0</td><td>1732172987000</td></tr><tr><td>dbfs:/FileStore/tables/df_stats/_committed_3134180424405415910</td><td>_committed_3134180424405415910</td><td>124</td><td>1732172985000</td></tr><tr><td>dbfs:/FileStore/tables/df_stats/_committed_396743797874409990</td><td>_committed_396743797874409990</td><td>122</td><td>1732171074000</td></tr><tr><td>dbfs:/FileStore/tables/df_stats/_committed_7711694153266947227</td><td>_committed_7711694153266947227</td><td>232</td><td>1732172416000</td></tr><tr><td>dbfs:/FileStore/tables/df_stats/_committed_vacuum5921913805048926575</td><td>_committed_vacuum5921913805048926575</td><td>95</td><td>1732172993000</td></tr><tr><td>dbfs:/FileStore/tables/df_stats/_started_7711694153266947227</td><td>_started_7711694153266947227</td><td>0</td><td>1732172416000</td></tr></tbody></table></div>"
      ]
     },
     "metadata": {
      "application/vnd.databricks.v1+output": {
       "addedWidgets": {},
       "aggData": [],
       "aggError": "",
       "aggOverflow": false,
       "aggSchema": [],
       "aggSeriesLimitReached": false,
       "aggType": "",
       "arguments": {},
       "columnCustomDisplayInfos": {},
       "data": [
        [
         "dbfs:/FileStore/tables/df_stats/Origin=ABQ/",
         "Origin=ABQ/",
         0,
         0
        ],
        [
         "dbfs:/FileStore/tables/df_stats/Origin=ALB/",
         "Origin=ALB/",
         0,
         0
        ],
        [
         "dbfs:/FileStore/tables/df_stats/Origin=AMA/",
         "Origin=AMA/",
         0,
         0
        ],
        [
         "dbfs:/FileStore/tables/df_stats/Origin=AUS/",
         "Origin=AUS/",
         0,
         0
        ],
        [
         "dbfs:/FileStore/tables/df_stats/Origin=BDL/",
         "Origin=BDL/",
         0,
         0
        ],
        [
         "dbfs:/FileStore/tables/df_stats/Origin=BFL/",
         "Origin=BFL/",
         0,
         0
        ],
        [
         "dbfs:/FileStore/tables/df_stats/Origin=BHM/",
         "Origin=BHM/",
         0,
         0
        ],
        [
         "dbfs:/FileStore/tables/df_stats/Origin=BNA/",
         "Origin=BNA/",
         0,
         0
        ],
        [
         "dbfs:/FileStore/tables/df_stats/Origin=BOI/",
         "Origin=BOI/",
         0,
         0
        ],
        [
         "dbfs:/FileStore/tables/df_stats/Origin=BTR/",
         "Origin=BTR/",
         0,
         0
        ],
        [
         "dbfs:/FileStore/tables/df_stats/Origin=BUF/",
         "Origin=BUF/",
         0,
         0
        ],
        [
         "dbfs:/FileStore/tables/df_stats/Origin=BUR/",
         "Origin=BUR/",
         0,
         0
        ],
        [
         "dbfs:/FileStore/tables/df_stats/Origin=BWI/",
         "Origin=BWI/",
         0,
         0
        ],
        [
         "dbfs:/FileStore/tables/df_stats/Origin=CHS/",
         "Origin=CHS/",
         0,
         0
        ],
        [
         "dbfs:/FileStore/tables/df_stats/Origin=CLE/",
         "Origin=CLE/",
         0,
         0
        ],
        [
         "dbfs:/FileStore/tables/df_stats/Origin=CLT/",
         "Origin=CLT/",
         0,
         0
        ],
        [
         "dbfs:/FileStore/tables/df_stats/Origin=CMH/",
         "Origin=CMH/",
         0,
         0
        ],
        [
         "dbfs:/FileStore/tables/df_stats/Origin=COS/",
         "Origin=COS/",
         0,
         0
        ],
        [
         "dbfs:/FileStore/tables/df_stats/Origin=CRP/",
         "Origin=CRP/",
         0,
         0
        ],
        [
         "dbfs:/FileStore/tables/df_stats/Origin=CRW/",
         "Origin=CRW/",
         0,
         0
        ],
        [
         "dbfs:/FileStore/tables/df_stats/Origin=DAL/",
         "Origin=DAL/",
         0,
         0
        ],
        [
         "dbfs:/FileStore/tables/df_stats/Origin=DAY/",
         "Origin=DAY/",
         0,
         0
        ],
        [
         "dbfs:/FileStore/tables/df_stats/Origin=DEN/",
         "Origin=DEN/",
         0,
         0
        ],
        [
         "dbfs:/FileStore/tables/df_stats/Origin=DTW/",
         "Origin=DTW/",
         0,
         0
        ],
        [
         "dbfs:/FileStore/tables/df_stats/Origin=ELP/",
         "Origin=ELP/",
         0,
         0
        ],
        [
         "dbfs:/FileStore/tables/df_stats/Origin=EWR/",
         "Origin=EWR/",
         0,
         0
        ],
        [
         "dbfs:/FileStore/tables/df_stats/Origin=FAT/",
         "Origin=FAT/",
         0,
         0
        ],
        [
         "dbfs:/FileStore/tables/df_stats/Origin=FLL/",
         "Origin=FLL/",
         0,
         0
        ],
        [
         "dbfs:/FileStore/tables/df_stats/Origin=GEG/",
         "Origin=GEG/",
         0,
         0
        ],
        [
         "dbfs:/FileStore/tables/df_stats/Origin=HOU/",
         "Origin=HOU/",
         0,
         0
        ],
        [
         "dbfs:/FileStore/tables/df_stats/Origin=HRL/",
         "Origin=HRL/",
         0,
         0
        ],
        [
         "dbfs:/FileStore/tables/df_stats/Origin=IAD/",
         "Origin=IAD/",
         0,
         0
        ],
        [
         "dbfs:/FileStore/tables/df_stats/Origin=IAH/",
         "Origin=IAH/",
         0,
         0
        ],
        [
         "dbfs:/FileStore/tables/df_stats/Origin=IND/",
         "Origin=IND/",
         0,
         0
        ],
        [
         "dbfs:/FileStore/tables/df_stats/Origin=ISP/",
         "Origin=ISP/",
         0,
         0
        ],
        [
         "dbfs:/FileStore/tables/df_stats/Origin=JAN/",
         "Origin=JAN/",
         0,
         0
        ],
        [
         "dbfs:/FileStore/tables/df_stats/Origin=JAX/",
         "Origin=JAX/",
         0,
         0
        ],
        [
         "dbfs:/FileStore/tables/df_stats/Origin=LAS/",
         "Origin=LAS/",
         0,
         0
        ],
        [
         "dbfs:/FileStore/tables/df_stats/Origin=LAX/",
         "Origin=LAX/",
         0,
         0
        ],
        [
         "dbfs:/FileStore/tables/df_stats/Origin=LBB/",
         "Origin=LBB/",
         0,
         0
        ],
        [
         "dbfs:/FileStore/tables/df_stats/Origin=LCH/",
         "Origin=LCH/",
         0,
         0
        ],
        [
         "dbfs:/FileStore/tables/df_stats/Origin=LFT/",
         "Origin=LFT/",
         0,
         0
        ],
        [
         "dbfs:/FileStore/tables/df_stats/Origin=LGB/",
         "Origin=LGB/",
         0,
         0
        ],
        [
         "dbfs:/FileStore/tables/df_stats/Origin=LIT/",
         "Origin=LIT/",
         0,
         0
        ],
        [
         "dbfs:/FileStore/tables/df_stats/Origin=MAF/",
         "Origin=MAF/",
         0,
         0
        ],
        [
         "dbfs:/FileStore/tables/df_stats/Origin=MCI/",
         "Origin=MCI/",
         0,
         0
        ],
        [
         "dbfs:/FileStore/tables/df_stats/Origin=MCO/",
         "Origin=MCO/",
         0,
         0
        ],
        [
         "dbfs:/FileStore/tables/df_stats/Origin=MDW/",
         "Origin=MDW/",
         0,
         0
        ],
        [
         "dbfs:/FileStore/tables/df_stats/Origin=MHT/",
         "Origin=MHT/",
         0,
         0
        ],
        [
         "dbfs:/FileStore/tables/df_stats/Origin=MKE/",
         "Origin=MKE/",
         0,
         0
        ],
        [
         "dbfs:/FileStore/tables/df_stats/Origin=MRY/",
         "Origin=MRY/",
         0,
         0
        ],
        [
         "dbfs:/FileStore/tables/df_stats/Origin=MSY/",
         "Origin=MSY/",
         0,
         0
        ],
        [
         "dbfs:/FileStore/tables/df_stats/Origin=OAK/",
         "Origin=OAK/",
         0,
         0
        ],
        [
         "dbfs:/FileStore/tables/df_stats/Origin=OKC/",
         "Origin=OKC/",
         0,
         0
        ],
        [
         "dbfs:/FileStore/tables/df_stats/Origin=OMA/",
         "Origin=OMA/",
         0,
         0
        ],
        [
         "dbfs:/FileStore/tables/df_stats/Origin=ONT/",
         "Origin=ONT/",
         0,
         0
        ],
        [
         "dbfs:/FileStore/tables/df_stats/Origin=ORD/",
         "Origin=ORD/",
         0,
         0
        ],
        [
         "dbfs:/FileStore/tables/df_stats/Origin=ORF/",
         "Origin=ORF/",
         0,
         0
        ],
        [
         "dbfs:/FileStore/tables/df_stats/Origin=PBI/",
         "Origin=PBI/",
         0,
         0
        ],
        [
         "dbfs:/FileStore/tables/df_stats/Origin=PDX/",
         "Origin=PDX/",
         0,
         0
        ],
        [
         "dbfs:/FileStore/tables/df_stats/Origin=PHL/",
         "Origin=PHL/",
         0,
         0
        ],
        [
         "dbfs:/FileStore/tables/df_stats/Origin=PHX/",
         "Origin=PHX/",
         0,
         0
        ],
        [
         "dbfs:/FileStore/tables/df_stats/Origin=PIT/",
         "Origin=PIT/",
         0,
         0
        ],
        [
         "dbfs:/FileStore/tables/df_stats/Origin=PVD/",
         "Origin=PVD/",
         0,
         0
        ],
        [
         "dbfs:/FileStore/tables/df_stats/Origin=RDU/",
         "Origin=RDU/",
         0,
         0
        ],
        [
         "dbfs:/FileStore/tables/df_stats/Origin=RNO/",
         "Origin=RNO/",
         0,
         0
        ],
        [
         "dbfs:/FileStore/tables/df_stats/Origin=ROC/",
         "Origin=ROC/",
         0,
         0
        ],
        [
         "dbfs:/FileStore/tables/df_stats/Origin=RSW/",
         "Origin=RSW/",
         0,
         0
        ],
        [
         "dbfs:/FileStore/tables/df_stats/Origin=SAN/",
         "Origin=SAN/",
         0,
         0
        ],
        [
         "dbfs:/FileStore/tables/df_stats/Origin=SAT/",
         "Origin=SAT/",
         0,
         0
        ],
        [
         "dbfs:/FileStore/tables/df_stats/Origin=SDF/",
         "Origin=SDF/",
         0,
         0
        ],
        [
         "dbfs:/FileStore/tables/df_stats/Origin=SEA/",
         "Origin=SEA/",
         0,
         0
        ],
        [
         "dbfs:/FileStore/tables/df_stats/Origin=SFO/",
         "Origin=SFO/",
         0,
         0
        ],
        [
         "dbfs:/FileStore/tables/df_stats/Origin=SJC/",
         "Origin=SJC/",
         0,
         0
        ],
        [
         "dbfs:/FileStore/tables/df_stats/Origin=SLC/",
         "Origin=SLC/",
         0,
         0
        ],
        [
         "dbfs:/FileStore/tables/df_stats/Origin=SMF/",
         "Origin=SMF/",
         0,
         0
        ],
        [
         "dbfs:/FileStore/tables/df_stats/Origin=SNA/",
         "Origin=SNA/",
         0,
         0
        ],
        [
         "dbfs:/FileStore/tables/df_stats/Origin=STL/",
         "Origin=STL/",
         0,
         0
        ],
        [
         "dbfs:/FileStore/tables/df_stats/Origin=SYR/",
         "Origin=SYR/",
         0,
         0
        ],
        [
         "dbfs:/FileStore/tables/df_stats/Origin=TPA/",
         "Origin=TPA/",
         0,
         0
        ],
        [
         "dbfs:/FileStore/tables/df_stats/Origin=TUL/",
         "Origin=TUL/",
         0,
         0
        ],
        [
         "dbfs:/FileStore/tables/df_stats/Origin=TUS/",
         "Origin=TUS/",
         0,
         0
        ],
        [
         "dbfs:/FileStore/tables/df_stats/_SUCCESS",
         "_SUCCESS",
         0,
         1732172987000
        ],
        [
         "dbfs:/FileStore/tables/df_stats/_committed_3134180424405415910",
         "_committed_3134180424405415910",
         124,
         1732172985000
        ],
        [
         "dbfs:/FileStore/tables/df_stats/_committed_396743797874409990",
         "_committed_396743797874409990",
         122,
         1732171074000
        ],
        [
         "dbfs:/FileStore/tables/df_stats/_committed_7711694153266947227",
         "_committed_7711694153266947227",
         232,
         1732172416000
        ],
        [
         "dbfs:/FileStore/tables/df_stats/_committed_vacuum5921913805048926575",
         "_committed_vacuum5921913805048926575",
         95,
         1732172993000
        ],
        [
         "dbfs:/FileStore/tables/df_stats/_started_7711694153266947227",
         "_started_7711694153266947227",
         0,
         1732172416000
        ]
       ],
       "datasetInfos": [],
       "dbfsResultPath": null,
       "isJsonSchema": true,
       "metadata": {},
       "overflow": false,
       "plotOptions": {
        "customPlotOptions": {},
        "displayType": "table",
        "pivotAggregation": null,
        "pivotColumns": null,
        "xColumns": null,
        "yColumns": null
       },
       "removedWidgets": [],
       "schema": [
        {
         "metadata": "{}",
         "name": "path",
         "type": "\"string\""
        },
        {
         "metadata": "{}",
         "name": "name",
         "type": "\"string\""
        },
        {
         "metadata": "{}",
         "name": "size",
         "type": "\"long\""
        },
        {
         "metadata": "{}",
         "name": "modificationTime",
         "type": "\"long\""
        }
       ],
       "type": "table"
      }
     },
     "output_type": "display_data"
    }
   ],
   "source": [
    "# Lister les fichiers dans le dossier\n",
    "display(dbutils.fs.ls(\"/FileStore/tables/df_stats/\"))\n"
   ]
  },
  {
   "cell_type": "code",
   "execution_count": 0,
   "metadata": {
    "application/vnd.databricks.v1+cell": {
     "cellMetadata": {
      "byteLimit": 2048000,
      "rowLimit": 10000
     },
     "inputWidgets": {},
     "nuid": "d4f6ff5b-fddf-494e-94fd-774c0621e476",
     "showTitle": false,
     "tableResultSettingsMap": {},
     "title": ""
    }
   },
   "outputs": [
    {
     "output_type": "stream",
     "name": "stdout",
     "output_type": "stream",
     "text": [
      "+-----------+-----------+------------------+------+\n|MinDistance|MaxDistance|       AvgDistance|Origin|\n+-----------+-----------+------------------+------+\n|        975|        975|             975.0|   CRW|\n|        174|       1984| 773.6413908671973|   TPA|\n|        226|        404|341.32986767485824|   SNA|\n|        337|       1855| 569.1251682368775|   SFO|\n|        328|        328|             328.0|   MKE|\n|        438|       1195| 776.1111111111111|   IAH|\n|        287|        749|436.58851674641147|   BOI|\n|        913|        913|             913.0|   CLT|\n|        277|        758| 364.0820189274448|   AMA|\n|        187|        187|             187.0|   CRP|\n|        577|       2066| 795.5351170568562|   IAD|\n|        256|       2279| 726.9035560344828|   PHX|\n|        180|       1959| 550.3550265890099|   OAK|\n|        359|        888|           572.712|   JAN|\n|        255|       2027| 622.8699910952805|   RDU|\n|        220|       2283|  838.712858926342|   ISP|\n|        111|       1419| 562.0345323741008|   TUL|\n|        223|        369|311.16676999380036|   BUR|\n|        224|       1125| 573.2213967310549|   GEG|\n|        237|       1593| 605.5869351669941|   STL|\n+-----------+-----------+------------------+------+\nonly showing top 20 rows\n\n"
     ]
    }
   ],
   "source": [
    "df_pq = spark.read.format(\"parquet\")\\\n",
    "  .load(output_parquet)\n",
    "df_pq.show()"
   ]
  }
 ],
 "metadata": {
  "application/vnd.databricks.v1+notebook": {
   "dashboards": [],
   "environmentMetadata": null,
   "language": "python",
   "notebookMetadata": {
    "pythonIndentUnit": 2
   },
   "notebookName": "Flight_data_pyspark",
   "widgets": {}
  }
 },
 "nbformat": 4,
 "nbformat_minor": 0
}
